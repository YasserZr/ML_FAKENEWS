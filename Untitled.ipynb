{
 "cells": [
  {
   "cell_type": "code",
   "execution_count": 5,
   "id": "bd3eaa82",
   "metadata": {},
   "outputs": [
    {
     "name": "stdout",
     "output_type": "stream",
     "text": [
      "{'base_url': '/', 'hostname': 'localhost', 'notebook_dir': 'C:\\\\Users\\\\MSI', 'password': False, 'pid': 12968, 'port': 8888, 'secure': False, 'sock': '', 'token': 'e17f33580b080eb8ef11d0a5b5f51770f605b47e72d2a4f5', 'url': 'http://localhost:8888/'}\n"
     ]
    }
   ],
   "source": [
    "from notebook import notebookapp\n",
    "\n",
    "# Get the running Jupyter notebook servers\n",
    "servers = list(notebookapp.list_running_servers())\n",
    "\n",
    "# If there are any servers running, access the first one\n",
    "if servers:\n",
    "    print(servers[0])  # Print the dictionary for the first server\n",
    "else:\n",
    "    print(\"No running Jupyter servers found.\")\n"
   ]
  },
  {
   "cell_type": "code",
   "execution_count": null,
   "id": "1a6db4b9",
   "metadata": {},
   "outputs": [],
   "source": []
  }
 ],
 "metadata": {
  "kernelspec": {
   "display_name": "myenv",
   "language": "python",
   "name": "myenv"
  },
  "language_info": {
   "codemirror_mode": {
    "name": "ipython",
    "version": 3
   },
   "file_extension": ".py",
   "mimetype": "text/x-python",
   "name": "python",
   "nbconvert_exporter": "python",
   "pygments_lexer": "ipython3",
   "version": "3.9.12"
  }
 },
 "nbformat": 4,
 "nbformat_minor": 5
}
