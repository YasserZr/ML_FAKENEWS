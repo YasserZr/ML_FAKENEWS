{
 "cells": [
  {
   "cell_type": "code",
   "execution_count": 50,
   "id": "32679507",
   "metadata": {},
   "outputs": [],
   "source": [
    "import numpy as np\n",
    "import pandas as pd\n",
    "\n",
    "from sklearn.model_selection import train_test_split\n",
    "from sklearn.feature_extraction.text import TfidfVectorizer\n",
    "from sklearn.svm import LinearSVC"
   ]
  },
  {
   "cell_type": "code",
   "execution_count": 51,
   "id": "12c6bf4a",
   "metadata": {},
   "outputs": [],
   "source": [
    "data = pd.read_csv(\"fake_or_real_news.csv\")"
   ]
  },
  {
   "cell_type": "code",
   "execution_count": 52,
   "id": "87f2b6a8",
   "metadata": {},
   "outputs": [],
   "source": [
    "data[\"fake\"] = data[\"label\"].apply(lambda x: 0 if x == \"REAL\" else 1)"
   ]
  },
  {
   "cell_type": "code",
   "execution_count": 53,
   "id": "6ff63ffb",
   "metadata": {},
   "outputs": [
    {
     "data": {
      "text/html": [
       "<div>\n",
       "<style scoped>\n",
       "    .dataframe tbody tr th:only-of-type {\n",
       "        vertical-align: middle;\n",
       "    }\n",
       "\n",
       "    .dataframe tbody tr th {\n",
       "        vertical-align: top;\n",
       "    }\n",
       "\n",
       "    .dataframe thead th {\n",
       "        text-align: right;\n",
       "    }\n",
       "</style>\n",
       "<table border=\"1\" class=\"dataframe\">\n",
       "  <thead>\n",
       "    <tr style=\"text-align: right;\">\n",
       "      <th></th>\n",
       "      <th>id</th>\n",
       "      <th>title</th>\n",
       "      <th>text</th>\n",
       "      <th>fake</th>\n",
       "    </tr>\n",
       "  </thead>\n",
       "  <tbody>\n",
       "    <tr>\n",
       "      <th>0</th>\n",
       "      <td>8476</td>\n",
       "      <td>You Can Smell Hillary’s Fear</td>\n",
       "      <td>Daniel Greenfield, a Shillman Journalism Fello...</td>\n",
       "      <td>1</td>\n",
       "    </tr>\n",
       "    <tr>\n",
       "      <th>1</th>\n",
       "      <td>10294</td>\n",
       "      <td>Watch The Exact Moment Paul Ryan Committed Pol...</td>\n",
       "      <td>Google Pinterest Digg Linkedin Reddit Stumbleu...</td>\n",
       "      <td>1</td>\n",
       "    </tr>\n",
       "    <tr>\n",
       "      <th>2</th>\n",
       "      <td>3608</td>\n",
       "      <td>Kerry to go to Paris in gesture of sympathy</td>\n",
       "      <td>U.S. Secretary of State John F. Kerry said Mon...</td>\n",
       "      <td>0</td>\n",
       "    </tr>\n",
       "    <tr>\n",
       "      <th>3</th>\n",
       "      <td>10142</td>\n",
       "      <td>Bernie supporters on Twitter erupt in anger ag...</td>\n",
       "      <td>— Kaydee King (@KaydeeKing) November 9, 2016 T...</td>\n",
       "      <td>1</td>\n",
       "    </tr>\n",
       "    <tr>\n",
       "      <th>4</th>\n",
       "      <td>875</td>\n",
       "      <td>The Battle of New York: Why This Primary Matters</td>\n",
       "      <td>It's primary day in New York and front-runners...</td>\n",
       "      <td>0</td>\n",
       "    </tr>\n",
       "    <tr>\n",
       "      <th>...</th>\n",
       "      <td>...</td>\n",
       "      <td>...</td>\n",
       "      <td>...</td>\n",
       "      <td>...</td>\n",
       "    </tr>\n",
       "    <tr>\n",
       "      <th>6330</th>\n",
       "      <td>4490</td>\n",
       "      <td>State Department says it can't find emails fro...</td>\n",
       "      <td>The State Department told the Republican Natio...</td>\n",
       "      <td>0</td>\n",
       "    </tr>\n",
       "    <tr>\n",
       "      <th>6331</th>\n",
       "      <td>8062</td>\n",
       "      <td>The ‘P’ in PBS Should Stand for ‘Plutocratic’ ...</td>\n",
       "      <td>The ‘P’ in PBS Should Stand for ‘Plutocratic’ ...</td>\n",
       "      <td>1</td>\n",
       "    </tr>\n",
       "    <tr>\n",
       "      <th>6332</th>\n",
       "      <td>8622</td>\n",
       "      <td>Anti-Trump Protesters Are Tools of the Oligarc...</td>\n",
       "      <td>Anti-Trump Protesters Are Tools of the Oligar...</td>\n",
       "      <td>1</td>\n",
       "    </tr>\n",
       "    <tr>\n",
       "      <th>6333</th>\n",
       "      <td>4021</td>\n",
       "      <td>In Ethiopia, Obama seeks progress on peace, se...</td>\n",
       "      <td>ADDIS ABABA, Ethiopia —President Obama convene...</td>\n",
       "      <td>0</td>\n",
       "    </tr>\n",
       "    <tr>\n",
       "      <th>6334</th>\n",
       "      <td>4330</td>\n",
       "      <td>Jeb Bush Is Suddenly Attacking Trump. Here's W...</td>\n",
       "      <td>Jeb Bush Is Suddenly Attacking Trump. Here's W...</td>\n",
       "      <td>0</td>\n",
       "    </tr>\n",
       "  </tbody>\n",
       "</table>\n",
       "<p>6335 rows × 4 columns</p>\n",
       "</div>"
      ],
      "text/plain": [
       "         id                                              title  \\\n",
       "0      8476                       You Can Smell Hillary’s Fear   \n",
       "1     10294  Watch The Exact Moment Paul Ryan Committed Pol...   \n",
       "2      3608        Kerry to go to Paris in gesture of sympathy   \n",
       "3     10142  Bernie supporters on Twitter erupt in anger ag...   \n",
       "4       875   The Battle of New York: Why This Primary Matters   \n",
       "...     ...                                                ...   \n",
       "6330   4490  State Department says it can't find emails fro...   \n",
       "6331   8062  The ‘P’ in PBS Should Stand for ‘Plutocratic’ ...   \n",
       "6332   8622  Anti-Trump Protesters Are Tools of the Oligarc...   \n",
       "6333   4021  In Ethiopia, Obama seeks progress on peace, se...   \n",
       "6334   4330  Jeb Bush Is Suddenly Attacking Trump. Here's W...   \n",
       "\n",
       "                                                   text  fake  \n",
       "0     Daniel Greenfield, a Shillman Journalism Fello...     1  \n",
       "1     Google Pinterest Digg Linkedin Reddit Stumbleu...     1  \n",
       "2     U.S. Secretary of State John F. Kerry said Mon...     0  \n",
       "3     — Kaydee King (@KaydeeKing) November 9, 2016 T...     1  \n",
       "4     It's primary day in New York and front-runners...     0  \n",
       "...                                                 ...   ...  \n",
       "6330  The State Department told the Republican Natio...     0  \n",
       "6331  The ‘P’ in PBS Should Stand for ‘Plutocratic’ ...     1  \n",
       "6332   Anti-Trump Protesters Are Tools of the Oligar...     1  \n",
       "6333  ADDIS ABABA, Ethiopia —President Obama convene...     0  \n",
       "6334  Jeb Bush Is Suddenly Attacking Trump. Here's W...     0  \n",
       "\n",
       "[6335 rows x 4 columns]"
      ]
     },
     "execution_count": 53,
     "metadata": {},
     "output_type": "execute_result"
    }
   ],
   "source": [
    "data.drop(\"label\",axis=1)"
   ]
  },
  {
   "cell_type": "code",
   "execution_count": 54,
   "id": "9f9d760b",
   "metadata": {},
   "outputs": [],
   "source": [
    "X, y = data[\"text\"], data[\"fake\"]"
   ]
  },
  {
   "cell_type": "code",
   "execution_count": 55,
   "id": "c4ed8425",
   "metadata": {},
   "outputs": [],
   "source": [
    "X_train, X_test, y_train, y_test = train_test_split(X, y, test_size = 0.2)"
   ]
  },
  {
   "cell_type": "code",
   "execution_count": 56,
   "id": "c43446c9",
   "metadata": {},
   "outputs": [],
   "source": [
    "vectorizer = TfidfVectorizer(stop_words=\"english\", max_df = 0.7)\n",
    "X_train_vectorized = vectorizer.fit_transform(X_train)\n",
    "X_test_vectorized = vectorizer.transform(X_test)"
   ]
  },
  {
   "cell_type": "code",
   "execution_count": 57,
   "id": "d4f18688",
   "metadata": {},
   "outputs": [
    {
     "data": {
      "text/plain": [
       "LinearSVC()"
      ]
     },
     "execution_count": 57,
     "metadata": {},
     "output_type": "execute_result"
    }
   ],
   "source": [
    "clf = LinearSVC()\n",
    "clf.fit(X_train_vectorized, y_train)"
   ]
  },
  {
   "cell_type": "code",
   "execution_count": 58,
   "id": "5afd89c1",
   "metadata": {},
   "outputs": [
    {
     "data": {
      "text/plain": [
       "0.9384372533543804"
      ]
     },
     "execution_count": 58,
     "metadata": {},
     "output_type": "execute_result"
    }
   ],
   "source": [
    "clf.score(X_test_vectorized, y_test)"
   ]
  },
  {
   "cell_type": "code",
   "execution_count": 59,
   "id": "072aed32",
   "metadata": {},
   "outputs": [
    {
     "data": {
      "text/plain": [
       "1188.9528"
      ]
     },
     "execution_count": 59,
     "metadata": {},
     "output_type": "execute_result"
    }
   ],
   "source": [
    "len(y_test) * 0.9384"
   ]
  },
  {
   "cell_type": "code",
   "execution_count": 60,
   "id": "f177d30d",
   "metadata": {},
   "outputs": [
    {
     "data": {
      "text/plain": [
       "1267"
      ]
     },
     "execution_count": 60,
     "metadata": {},
     "output_type": "execute_result"
    }
   ],
   "source": [
    "len(y_test)"
   ]
  },
  {
   "cell_type": "code",
   "execution_count": 61,
   "id": "8306e59a",
   "metadata": {},
   "outputs": [],
   "source": [
    "with open(\"mytest.txt\", \"w\", encoding = \"utf-8\") as f:\n",
    "    f.write(\"A ceasefire agreement in Lebanon has taken effect, allowing displaced communities to begin returning home. This development follows efforts by the UN and other international actors to stabilize the region and address the humanitarian crisis\")"
   ]
  },
  {
   "cell_type": "code",
   "execution_count": 62,
   "id": "06726b1b",
   "metadata": {},
   "outputs": [],
   "source": [
    "with open(\"mytest.txt\", \"r\", encoding = \"utf-8\") as f:\n",
    "    text = f.read()"
   ]
  },
  {
   "cell_type": "code",
   "execution_count": 63,
   "id": "177532a6",
   "metadata": {},
   "outputs": [
    {
     "data": {
      "text/plain": [
       "'A ceasefire agreement in Lebanon has taken effect, allowing displaced communities to begin returning home. This development follows efforts by the UN and other international actors to stabilize the region and address the humanitarian crisis'"
      ]
     },
     "execution_count": 63,
     "metadata": {},
     "output_type": "execute_result"
    }
   ],
   "source": [
    "text"
   ]
  },
  {
   "cell_type": "code",
   "execution_count": 64,
   "id": "872be353",
   "metadata": {},
   "outputs": [],
   "source": [
    "vectorized_text = vectorizer.transform([text])"
   ]
  },
  {
   "cell_type": "code",
   "execution_count": 65,
   "id": "ae8163e6",
   "metadata": {},
   "outputs": [
    {
     "data": {
      "text/plain": [
       "array([1], dtype=int64)"
      ]
     },
     "execution_count": 65,
     "metadata": {},
     "output_type": "execute_result"
    }
   ],
   "source": [
    "clf.predict(vectorized_text)"
   ]
  },
  {
   "cell_type": "code",
   "execution_count": null,
   "id": "10e29243",
   "metadata": {},
   "outputs": [],
   "source": []
  }
 ],
 "metadata": {
  "kernelspec": {
   "display_name": "myenv",
   "language": "python",
   "name": "myenv"
  },
  "language_info": {
   "codemirror_mode": {
    "name": "ipython",
    "version": 3
   },
   "file_extension": ".py",
   "mimetype": "text/x-python",
   "name": "python",
   "nbconvert_exporter": "python",
   "pygments_lexer": "ipython3",
   "version": "3.9.12"
  }
 },
 "nbformat": 4,
 "nbformat_minor": 5
}
