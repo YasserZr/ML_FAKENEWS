{
 "cells": [
  {
   "cell_type": "code",
   "execution_count": 450,
   "id": "32679507",
   "metadata": {},
   "outputs": [],
   "source": [
    "import numpy as np\n",
    "import pandas as pd\n",
    "import matplotlib.pyplot as plt\n",
    "import seaborn as sns\n",
    "from collections import Counter\n",
    "\n",
    "from sklearn.model_selection import train_test_split\n",
    "from sklearn.feature_extraction.text import TfidfVectorizer\n",
    "from sklearn.svm import LinearSVC\n",
    "from sklearn.naive_bayes import MultinomialNB\n",
    "from sklearn.linear_model import LogisticRegression\n",
    "from sklearn.metrics import (\n",
    "    classification_report,\n",
    "    confusion_matrix,\n",
    "    precision_recall_curve,\n",
    "    ConfusionMatrixDisplay,\n",
    ")"
   ]
  },
  {
   "cell_type": "code",
   "execution_count": 451,
   "id": "12c6bf4a",
   "metadata": {},
   "outputs": [],
   "source": [
    "# Read the datasets\n",
    "fake_data = pd.read_csv(\"Fake.csv\")\n",
    "true_data = pd.read_csv(\"True.csv\")"
   ]
  },
  {
   "cell_type": "code",
   "execution_count": 452,
   "id": "3c289253-d930-4335-9b6e-c898bb19b185",
   "metadata": {},
   "outputs": [],
   "source": [
    "# Preprocess text (removing special characters, extra spaces)\n",
    "def clean_text(text):\n",
    "    text = text.str.replace(r\"[^\\w\\s]\", \"\", regex=True)  # Remove special characters\n",
    "    text = text.str.lower()  # Convert to lowercase\n",
    "    text = text.str.strip()  # Remove leading/trailing spaces\n",
    "    return text\n",
    "\n",
    "fake_data[\"text\"] = clean_text(fake_data[\"text\"])\n",
    "true_data[\"text\"] = clean_text(true_data[\"text\"])"
   ]
  },
  {
   "cell_type": "code",
   "execution_count": 453,
   "id": "87f2b6a8",
   "metadata": {},
   "outputs": [],
   "source": [
    "# Add labels to the datasets: 1 for fake, 0 for real\n",
    "fake_data[\"label\"] = 1\n",
    "true_data[\"label\"] = 0"
   ]
  },
  {
   "cell_type": "code",
   "execution_count": 454,
   "id": "eaa5b8c5-a660-4e5e-b48b-3aaa03f6e5c7",
   "metadata": {},
   "outputs": [],
   "source": [
    "# Combine datasets\n",
    "data = pd.concat([fake_data, true_data], axis=0).reset_index(drop=True)"
   ]
  },
  {
   "cell_type": "code",
   "execution_count": 455,
   "id": "3d91812e-d000-4c4f-bd27-adcfc1d6a040",
   "metadata": {},
   "outputs": [],
   "source": [
    "# Shuffle the dataset to mix fake and real samples\n",
    "data = data.sample(frac=1, random_state=42).reset_index(drop=True)"
   ]
  },
  {
   "cell_type": "code",
   "execution_count": 456,
   "id": "f731ba02-2cb1-4568-b633-ed5b6bb2b4ac",
   "metadata": {},
   "outputs": [],
   "source": [
    "# Check for missing values\n",
    "data.dropna(subset=[\"text\"], inplace=True)"
   ]
  },
  {
   "cell_type": "code",
   "execution_count": 457,
   "id": "bc91263e",
   "metadata": {},
   "outputs": [
    {
     "data": {
      "image/png": "[encoded data removed]",
      "text/plain": [
       "<Figure size 576x432 with 1 Axes>"
      ]
     },
     "metadata": {
      "needs_background": "light"
     },
     "output_type": "display_data"
    }
   ],
   "source": [
    "# **Visualization 1: Class Distribution**\n",
    "plt.figure(figsize=(8, 6))\n",
    "sns.countplot(x='label', data=data, palette=\"viridis\")  # Specify `x` and `data` as keyword arguments\n",
    "plt.title(\"Class Distribution\")\n",
    "plt.xlabel(\"Label (0 = True, 1 = Fake)\")\n",
    "plt.ylabel(\"Count\")\n",
    "plt.xticks([0, 1], [\"True\", \"Fake\"])\n",
    "plt.show()"
   ]
  },
  {
   "cell_type": "code",
   "execution_count": 458,
   "id": "fd55bc96",
   "metadata": {},
   "outputs": [],
   "source": [
    "# Add text length as a feature\n",
    "data[\"text_length\"] = data[\"text\"].str.split().apply(len)"
   ]
  },
  {
   "cell_type": "code",
   "execution_count": 459,
   "id": "f90a986d",
   "metadata": {},
   "outputs": [
    {
     "data": {
      "image/png": "[encoded data removed]",
      "text/plain": [
       "<Figure size 720x432 with 1 Axes>"
      ]
     },
     "metadata": {
      "needs_background": "light"
     },
     "output_type": "display_data"
    }
   ],
   "source": [
    "# **Visualization 2: Text Length Distribution**\n",
    "plt.figure(figsize=(10, 6))\n",
    "sns.histplot(x=\"text_length\", data=data, kde=True, bins=30, color=\"green\")  # Specify `x` and `data` as keyword arguments\n",
    "plt.title(\"Text Length Distribution\")\n",
    "plt.xlabel(\"Number of Words\")\n",
    "plt.ylabel(\"Frequency\")\n",
    "plt.show()"
   ]
  },
  {
   "cell_type": "code",
   "execution_count": 460,
   "id": "ba1698b6-b376-4c99-aed3-0f55f6f23ba9",
   "metadata": {},
   "outputs": [],
   "source": [
    "# Use 'text' and 'label' columns\n",
    "X, y = data[\"text\"], data[\"label\"]"
   ]
  },
  {
   "cell_type": "code",
   "execution_count": 461,
   "id": "965d3051-1496-4d6a-a2dc-44876d39f5de",
   "metadata": {},
   "outputs": [],
   "source": [
    "# Split the data into train and test sets\n",
    "X_train, X_test, y_train, y_test = train_test_split(X, y, test_size=0.2, stratify=y, random_state=42)"
   ]
  },
  {
   "cell_type": "code",
   "execution_count": null,
   "id": "90e6d900-60da-4ca4-9c6a-1fafdb8c9742",
   "metadata": {},
   "outputs": [],
   "source": [
    "# Text vectorization using TF-IDF\n",
    "vectorizer = TfidfVectorizer(stop_words=\"english\", max_df=0.7)\n",
    "X_train_vectorized = vectorizer.fit_transform(X_train)\n",
    "X_test_vectorized = vectorizer.transform(X_test)"
   ]
  },
  {
   "cell_type": "code",
   "execution_count": null,
   "id": "818ab51b-7eee-483f-bbe6-9d04e5f06acd",
   "metadata": {},
   "outputs": [],
   "source": [
    "# Initialize models\n",
    "models = {\n",
    "    \"LinearSVC\": LinearSVC(random_state=42),\n",
    "    \"Naive Bayes\": MultinomialNB(),\n",
    "    \"Logistic Regression\": LogisticRegression(max_iter=1000, random_state=42)\n",
    "}"
   ]
  },
  {
   "cell_type": "code",
   "execution_count": null,
   "id": "9f00cea4-0e3f-4750-b615-1d07c9e279c8",
   "metadata": {},
   "outputs": [],
   "source": [
    "# Train and evaluate each model\n",
    "metrics = []\n",
    "for model_name, model in models.items():\n",
    "    print(f\"Training {model_name}...\")\n",
    "    model.fit(X_train_vectorized, y_train)\n",
    "    predictions = model.predict(X_test_vectorized)\n",
    "    \n",
    "    # Collect metrics for comparison\n",
    "    report = classification_report(y_test, predictions, output_dict=True)\n",
    "    metrics.append({\n",
    "        \"Model\": model_name,\n",
    "        \"Accuracy\": report[\"accuracy\"],\n",
    "        \"Precision (Fake)\": report[\"1\"][\"precision\"],\n",
    "        \"Recall (Fake)\": report[\"1\"][\"recall\"],\n",
    "        \"F1-score (Fake)\": report[\"1\"][\"f1-score\"]\n",
    "    })\n",
    "    \n",
    "    # Print classification report and confusion matrix\n",
    "    print(f\"{model_name} Classification Report:\\n{classification_report(y_test, predictions)}\")\n",
    "    cm = confusion_matrix(y_test, predictions)\n",
    "    disp = ConfusionMatrixDisplay(confusion_matrix=cm, display_labels=[\"True\", \"Fake\"])\n",
    "    disp.plot(cmap=\"Blues\", values_format='d')\n",
    "    plt.title(f\"{model_name} - Confusion Matrix\")\n",
    "    plt.show()"
   ]
  },
  {
   "cell_type": "code",
   "execution_count": null,
   "id": "58436a51",
   "metadata": {},
   "outputs": [],
   "source": [
    "# **Visualization 3: Model Performance Comparison**\n",
    "metrics_df = pd.DataFrame(metrics)\n",
    "metrics_df.set_index(\"Model\").plot(kind=\"bar\", figsize=(10, 6))\n",
    "plt.title(\"Model Performance Metrics\")\n",
    "plt.ylabel(\"Score\")\n",
    "plt.xlabel(\"Model\")\n",
    "plt.legend(loc=\"lower right\")\n",
    "plt.xticks(rotation=45)\n",
    "plt.tight_layout()\n",
    "plt.show()"
   ]
  },
  {
   "cell_type": "code",
   "execution_count": null,
   "id": "2f83652d",
   "metadata": {},
   "outputs": [],
   "source": [
    "# **Visualization 4: Precision-Recall Curve**\n",
    "plt.figure(figsize=(10, 6))\n",
    "for model_name, model in models.items():\n",
    "    y_prob = model.decision_function(X_test_vectorized) if hasattr(model, \"decision_function\") else model.predict_proba(X_test_vectorized)[:, 1]\n",
    "    precision, recall, _ = precision_recall_curve(y_test, y_prob)\n",
    "    plt.plot(recall, precision, label=model_name)\n",
    "\n",
    "plt.title(\"Precision-Recall Curve\")\n",
    "plt.xlabel(\"Recall\")\n",
    "plt.ylabel(\"Precision\")\n",
    "plt.legend(loc=\"best\")\n",
    "plt.grid(True)\n",
    "plt.show()\n"
   ]
  },
  {
   "cell_type": "code",
   "execution_count": null,
   "id": "531cc94a-e26b-40cd-a1c0-7a8469cadf8c",
   "metadata": {},
   "outputs": [],
   "source": [
    "# Test the models on new text\n",
    "def predict_new_text(file_path, vectorizer, models):\n",
    "    with open(file_path, \"r\", encoding=\"utf-8\") as f:\n",
    "        text = f.read()\n",
    "    \n",
    "    # Clean and vectorize the text\n",
    "    cleaned_text = clean_text(pd.Series(text))\n",
    "    vectorized_text = vectorizer.transform(cleaned_text)\n",
    "    \n",
    "    for model_name, model in models.items():\n",
    "        prediction = model.predict(vectorized_text)\n",
    "        print(f\"{model_name} Prediction: {'FAKE' if prediction[0] == 1 else 'REAL'}\")"
   ]
  },
  {
   "cell_type": "code",
   "execution_count": null,
   "id": "ba2d1e3c-29e2-48d1-8fdc-16a7845b023a",
   "metadata": {},
   "outputs": [],
   "source": [
    "# Test new input\n",
    "predict_new_text(\"mytest.txt\", vectorizer, models)"
   ]
  }
 ],
 "metadata": {
  "kernelspec": {
   "display_name": "myenv",
   "language": "python",
   "name": "myenv"
  },
  "language_info": {
   "codemirror_mode": {
    "name": "ipython",
    "version": 3
   },
   "file_extension": ".py",
   "mimetype": "text/x-python",
   "name": "python",
   "nbconvert_exporter": "python",
   "pygments_lexer": "ipython3",
   "version": "3.9.12"
  }
 },
 "nbformat": 4,
 "nbformat_minor": 5
}
